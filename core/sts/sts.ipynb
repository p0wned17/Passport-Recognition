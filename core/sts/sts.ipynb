{
  "nbformat": 4,
  "nbformat_minor": 0,
  "metadata": {
    "colab": {
      "name": "sts.ipynb",
      "provenance": []
    },
    "kernelspec": {
      "name": "python3",
      "display_name": "Python 3"
    },
    "language_info": {
      "name": "python"
    },
    "accelerator": "GPU"
  },
  "cells": [
    {
      "cell_type": "code",
      "execution_count": 4,
      "metadata": {
        "colab": {
          "base_uri": "https://localhost:8080/"
        },
        "id": "Z2gyO_KGU9kg",
        "outputId": "a046bdb0-5a6e-4c55-8ae8-46f184be618b"
      },
      "outputs": [
        {
          "output_type": "stream",
          "name": "stdout",
          "text": [
            "Collecting opencv-python-headless==4.1.2.30\n",
            "  Downloading opencv_python_headless-4.1.2.30-cp37-cp37m-manylinux1_x86_64.whl (21.8 MB)\n",
            "\u001b[K     |████████████████████████████████| 21.8 MB 1.9 MB/s \n",
            "\u001b[?25hRequirement already satisfied: numpy>=1.14.5 in /usr/local/lib/python3.7/dist-packages (from opencv-python-headless==4.1.2.30) (1.21.5)\n",
            "Installing collected packages: opencv-python-headless\n",
            "  Attempting uninstall: opencv-python-headless\n",
            "    Found existing installation: opencv-python-headless 4.5.5.64\n",
            "    Uninstalling opencv-python-headless-4.5.5.64:\n",
            "      Successfully uninstalled opencv-python-headless-4.5.5.64\n",
            "Successfully installed opencv-python-headless-4.1.2.30\n"
          ]
        }
      ],
      "source": [
        "!pip install opencv-python-headless==4.1.2.30"
      ]
    },
    {
      "cell_type": "code",
      "source": [
        "from craft_text_detector import (\n",
        "    read_image,\n",
        "    load_craftnet_model,\n",
        "    load_refinenet_model,\n",
        "    get_prediction,\n",
        "    export_detected_regions,\n",
        "    export_extra_results,\n",
        "    empty_cuda_cache\n",
        ")\n",
        "import easyocr\n",
        "from PIL import Image\n",
        "import numpy as np\n",
        "import re\n",
        "import io\n",
        "from scipy.ndimage import interpolation as inter\n",
        "import cv2\n",
        "\n",
        "reader = easyocr.Reader(['en'], gpu=True)\n",
        "refine_net = load_refinenet_model(cuda=True)\n",
        "craft_net = load_craftnet_model(cuda=True)"
      ],
      "metadata": {
        "id": "olurZho8XqDX"
      },
      "execution_count": 51,
      "outputs": []
    },
    {
      "cell_type": "code",
      "source": [
        "image = np.array(Image.open('/content/СТС_18.jpeg'))\n",
        "\n",
        "h,w = image.shape[:2]\n",
        "print(h,w)\n",
        "img = cv2.resize(image, (2700, 3000), fx=0.5, fy=0.3)\n",
        "image = read_image(img)\n",
        "\n",
        "\n",
        "prediction_result = get_prediction(\n",
        "    image=image,\n",
        "    craft_net=craft_net,\n",
        "    refine_net=refine_net,\n",
        "    text_threshold=0.7,\n",
        "    link_threshold=0.4,\n",
        "    low_text=0.4,\n",
        "    cuda=True,\n",
        "    long_size=1280\n",
        ")\n",
        "\n",
        "idx = 0\n",
        "ocr_text = []\n",
        "boxes = prediction_result[\"boxes\"]\n",
        "for box in boxes[4:]:\n",
        "    idx+=1\n",
        "    x,y,w,h = cv2.boundingRect(box)\n",
        "    resize_image = image[y:y+h, x:x+w]\n",
        "    result = reader.readtext(resize_image, detail=0)\n",
        "    ocr_text.append(result)\n",
        "print(ocr_text)\n"
      ],
      "metadata": {
        "colab": {
          "base_uri": "https://localhost:8080/"
        },
        "id": "DWuwyQXLXyWc",
        "outputId": "f3892963-8353-4dbd-b9e9-aa49b65685b0"
      },
      "execution_count": 66,
      "outputs": [
        {
          "output_type": "stream",
          "name": "stdout",
          "text": [
            "923 687\n"
          ]
        },
        {
          "output_type": "stream",
          "name": "stderr",
          "text": [
            "/usr/local/lib/python3.7/dist-packages/craft_text_detector/craft_utils.py:415: VisibleDeprecationWarning: Creating an ndarray from ragged nested sequences (which is a list-or-tuple of lists-or-tuples-or ndarrays with different lengths or shapes) is deprecated. If you meant to do this, you must specify 'dtype=object' when creating the ndarray.\n",
            "  polys = np.array(polys)\n",
            "/usr/local/lib/python3.7/dist-packages/craft_text_detector/predict.py:110: VisibleDeprecationWarning: Creating an ndarray from ragged nested sequences (which is a list-or-tuple of lists-or-tuples-or ndarrays with different lengths or shapes) is deprecated. If you meant to do this, you must specify 'dtype=object' when creating the ndarray.\n",
            "  polys_as_ratio = np.array(polys_as_ratio)\n"
          ]
        },
        {
          "output_type": "stream",
          "name": "stdout",
          "text": [
            "[['MaenruduraunonHslf', 'uomep', '(VIN )'], ['WAUZZZ8V3J1075219'], ['Mapra,', 'MOACAL', 'AyAM A?'], ['AUd A3'], ['Tun', 'TTC'], ['TiL', 'ELU', 'Kareropu lef&ePk EcBa'], ['\"pHuen'], ['B'], ['2018'], ['FoA', 'BEIyCKa', 'TC'], ['Maccu', '(paMa)', 'No', 'OTCYTCTBYET'], ['Ky3oB', '(Kabuua', 'upuuen', 'No'], ['WAUZZZ8V3J1075219'], ['Uee', 'BEnBIV'], ['MouuocTb', 'ABura TexA.', 'KBT/^.', '0.110.3/150'], ['3KOAOTHHCCKHM', 'Kiacc NATbIM'], ['Hacnopr', 'TC', 'cepua 78 YX No 478063'], ['Paxpemenua a', 'max', 'Macca,', '1795', 'Kq'], ['1385'], ['Macca', '6e3', '#arpy3Ku,', 'kq'], ['77', '61', 'N', '164232']]\n"
          ]
        }
      ]
    },
    {
      "cell_type": "code",
      "source": [
        "image = np.array(Image.open('/content/ПТС_13.jpeg'))\n",
        "result = reader.readtext(image, detail=0)\n",
        "print(result)"
      ],
      "metadata": {
        "id": "e9PwcFTuPoqs",
        "outputId": "29ae902e-dd4c-4543-a05f-f17cfd04d1a1",
        "colab": {
          "base_uri": "https://localhost:8080/"
        }
      },
      "execution_count": 44,
      "outputs": [
        {
          "output_type": "stream",
          "name": "stdout",
          "text": [
            "['IACIIOPT TPAHCIIOPTHOTO CPEACTBA', '78', 'JX', '294058', 'MACHTUbuKIQUIOHIILII', \"#omep' (VIN)\", 'WAUZLZBUIHR483449', 'Mupka,', \"Moe 'C\", 'AUDI QX', 'Iluuhciioimuiiiio', '(un \\'\"TC) JIFTKOBOn', 'Jcodble', 'ot.etku', \"Kareropux 'IC\", '(4', '#pIIICH )', '5. To,', \"MBTOTOACHuIA 'IY\", '201', 'MoAelb', 'NNu', 'AATGAS', 'CZD 296.425', '7. Maccu', '([YI,MIU )', 'Nv', '0TC YTC TBYET', '8. Kyaor   (Kadua', 'MpHUCHT )', 'No', 'WAUZZZSUIHRU83449', 'VTHJIZILMIOHHEIT coop', '9. Muerr', 'KJOHa', '(Kagubl , HQHIICTa )', 'YRHBI', 'ynayen: TIIO 1', 'MouHocb  BHTUTCAA', '(KBt)', '150', '7110)', '10009194/040517/', '1395', '4. Pado\"uit', 'O6LOM', 'ABMATCAX,', 'KV6.', 'CM', 'TC-61005S72', '12.', \"'Tun\", 'AurarexA', 'BIHSHBOBBQI', '13.', 'HK01OTHUICCKHii', 'AAucc', 'DATLIA', 'YBDOC Ne', '8970177000006276516', '14. Paapeenuax', 'MaKCHALAAbHta%', 'MuCcu', 'KT', '2003', '1537', '15.', 'Macca 6e3 Harpy3Ku;', \"16 . Waroronureab 'TC\", 'C\"paHu )', 'AUDIAG', '@CHAHES)', '17. OAoopenue', 'TII', '\"TY', 'No IC RU', 'LEM1020Q0LLBL', '112016', 'QC \"CAROQHT\"', '18. Orpaua', 'Ubl[0JU', \"'C\", 'IPMAHEA', '19. Cepus,', 'No TA,', \"'TTIO\", '100091947030517/0003869', '20', \"'TaMoKOHElC   OTpAHI'ICHMA\", 'HEYC LAHOB JFHEI', '21', 'HuuMCHona HHO', 'codoTneHuuka TC', 'poQ', '\"QOJKC BATZH TPMII Pyc\"', '22. AApeC 248926,_LLWACIALOBLLRLIIAYI', 'AB TOMOBIILHAA, 41', '23. HauMQHouaHIe  OpFA HEJAIWI_', 'BELA U BlleII', 'MACHOpT', '4ETAEBAA AKTHBHA A TAMOAHY', '24. AApC 109240 MOCKBAYL AYBCKALL :', '25. Aura', \"MLLA ('T\", 'nuCHOpTU', '04.05.201 7', 'Hodnuce', '0C', 'uLJh (', 'BLOlA', 'Kilkiln', 'MHLLKIJ', 'wJn\"Qoll', 'Rev']\n"
          ]
        }
      ]
    }
  ]
}