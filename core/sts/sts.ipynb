{
  "cells": [
    {
      "cell_type": "code",
      "execution_count": null,
      "metadata": {
        "colab": {
          "base_uri": "https://localhost:8080/"
        },
        "id": "Z2gyO_KGU9kg",
        "outputId": "a046bdb0-5a6e-4c55-8ae8-46f184be618b"
      },
      "outputs": [],
      "source": [
        "!pip install opencv-python-headless==4.1.2.30"
      ]
    },
    {
      "cell_type": "code",
      "execution_count": null,
      "metadata": {
        "id": "olurZho8XqDX"
      },
      "outputs": [],
      "source": [
        "from craft_text_detector import (\n",
        "    read_image,\n",
        "    load_craftnet_model,\n",
        "    load_refinenet_model,\n",
        "    get_prediction,\n",
        "    export_detected_regions,\n",
        "    export_extra_results,\n",
        "    empty_cuda_cache\n",
        ")\n",
        "import easyocr\n",
        "from PIL import Image\n",
        "import numpy as np\n",
        "import re\n",
        "import io\n",
        "from scipy.ndimage import interpolation as inter\n",
        "import cv2\n",
        "\n",
        "reader = easyocr.Reader(['en'], gpu=True)\n",
        "refine_net = load_refinenet_model(cuda=True)\n",
        "craft_net = load_craftnet_model(cuda=True)"
      ]
    },
    {
      "cell_type": "code",
      "execution_count": null,
      "metadata": {
        "colab": {
          "base_uri": "https://localhost:8080/"
        },
        "id": "DWuwyQXLXyWc",
        "outputId": "f3892963-8353-4dbd-b9e9-aa49b65685b0"
      },
      "outputs": [],
      "source": [
        "image = np.array(Image.open('/content/СТС_18.jpeg'))\n",
        "\n",
        "h,w = image.shape[:2]\n",
        "print(h,w)\n",
        "img = cv2.resize(image, (2700, 3000), fx=0.5, fy=0.3)\n",
        "image = read_image(img)\n",
        "\n",
        "\n",
        "prediction_result = get_prediction(\n",
        "    image=image,\n",
        "    craft_net=craft_net,\n",
        "    refine_net=refine_net,\n",
        "    text_threshold=0.7,\n",
        "    link_threshold=0.4,\n",
        "    low_text=0.4,\n",
        "    cuda=True,\n",
        "    long_size=1280\n",
        ")\n",
        "\n",
        "idx = 0\n",
        "ocr_text = []\n",
        "boxes = prediction_result[\"boxes\"]\n",
        "for box in boxes[4:]:\n",
        "    idx+=1\n",
        "    x,y,w,h = cv2.boundingRect(box)\n",
        "    resize_image = image[y:y+h, x:x+w]\n",
        "    result = reader.readtext(resize_image, detail=0)\n",
        "    ocr_text.append(result)\n",
        "print(ocr_text)\n"
      ]
    },
    {
      "cell_type": "code",
      "execution_count": null,
      "metadata": {
        "colab": {
          "base_uri": "https://localhost:8080/"
        },
        "id": "e9PwcFTuPoqs",
        "outputId": "29ae902e-dd4c-4543-a05f-f17cfd04d1a1"
      },
      "outputs": [],
      "source": [
        "image = np.array(Image.open('/content/ПТС_13.jpeg'))\n",
        "result = reader.readtext(image, detail=0)\n",
        "print(result)"
      ]
    }
  ],
  "metadata": {
    "accelerator": "GPU",
    "colab": {
      "name": "sts.ipynb",
      "provenance": []
    },
    "kernelspec": {
      "display_name": "Python 3",
      "name": "python3"
    },
    "language_info": {
      "name": "python"
    }
  },
  "nbformat": 4,
  "nbformat_minor": 0
}
