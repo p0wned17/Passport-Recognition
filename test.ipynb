{
 "cells": [
  {
   "cell_type": "code",
   "execution_count": null,
   "metadata": {},
   "outputs": [],
   "source": [
    "import cv2\n",
    "import numpy as np\n",
    "import cv2\n",
    "import pytesseract\n",
    "import matplotlib.pyplot as plt\n",
    "import numpy as np\n",
    "import pytesseract\n",
    "import argparse\n",
    "import pandas as pd\n",
    "import cv2\n",
    "from PIL import Image\n",
    "from scipy.ndimage import interpolation as inter\n",
    "\n",
    "pytesseract.pytesseract.tesseract_cmd = r'C:/Program Files/Tesseract-OCR/tesseract.exe'"
   ]
  },
  {
   "cell_type": "code",
   "execution_count": null,
   "metadata": {},
   "outputs": [],
   "source": [
    "import re\n",
    "\n",
    "\n",
    "def recognize(data):\n",
    "    text = re.sub(r\"[^А-Я\\s]\",'',data)\n",
    "    text = re.sub(r\"\\s{2,}\", '',text)\n",
    "    return text\n",
    "data = ['', 'ФЛИКШТЕЙН ', 'АЛИНА ', 'АЛЕКСАНДРОВНА ', '© op ', 'мы 27.11.1981 ', '‚жен ', 'ГОР. БАКУ ', '© qn © a © co ', 'РЕСП. АЗЕРБАЙДЖАН ']\n",
    "\n",
    "print(data[4:])\n",
    "\n",
    "# del data[0]\n",
    "# result = list(map(recognize, data))\n",
    "# result = list(filter(None, result))\n",
    "# result = [x for x in result if len(x) > 2]\n",
    "# def lower(text):\n",
    "#     text = text.title()\n",
    "#     return text\n",
    "# result = list(map(lower, result))\n",
    "\n",
    "# print(result)\n",
    "\n",
    "# FIO = (' ').join(result[0:3])\n",
    "\n"
   ]
  },
  {
   "cell_type": "code",
   "execution_count": null,
   "metadata": {},
   "outputs": [],
   "source": [
    "import re\n",
    "def get_birthday(data):\n",
    "    date_birth = re.findall(r\"[A-Z0-9]{10,17}\", str(data))\n",
    "    return date_birth\n",
    "data = [['ae#Tudura4uOHHblf', 'uouep', '(VIN'], ['XWEPC81ADE0009527'], ['Mapra.', 'MOACAE KMA SLS SPORTAGE', 'SL', '', '', '', '', '', '', 'SL,'], ['KIA SLS SPORTAGE', 'SL, SL'], ['Nt', 'DLo', 'OrONTAOC', '2', 'Tu', 'TTC', 'Jerkobon yMBepcan', 'Kareropia', 'TC', '(ABCD:', '\"puuen', 'B'], ['Fox', 'BGUVCKa', 'TTC', '2014'], ['Maccu', \"(pa.na) N'OTCYTCTBYET\"], ['Kvxoe', 'Ka6a , \"DCIE', 'No'], ['XWEPC8IADEO009527'], ['IBe CEPEEPMCTBIM'], ['Momhoctt', 'uarea', 'KBT/A. 4110/150'], ['\\'KoAoru\"CcKu KAAC HETBEPTBI'], ['Hacuopt', 'TG', 'epx7oy', 'N274042'], ['PaapemeHa *', 'Iil X', 'macei,', '2030', 'K'], ['Macca', '66', '\"aevsru', '1655', 'k'], ['77', '60', 'N', '14 0366']]\n",
    "\n",
    "series_number = list(map(get_birthday, data))\n",
    "texting = list(filter(None, series_number))\n",
    "print(texting)\n"
   ]
  },
  {
   "cell_type": "code",
   "execution_count": null,
   "metadata": {},
   "outputs": [],
   "source": [
    "import torch\n",
    "\n",
    "torch.cuda.is_available()"
   ]
  },
  {
   "cell_type": "code",
   "execution_count": null,
   "metadata": {},
   "outputs": [],
   "source": [
    "import requests\n",
    "import os\n",
    "path_files = 'C:\\Games\\passport 2.0'\n",
    "url = \"http://localhost:8005/predict/?template=3&mode=front\"\n",
    "\n",
    "for filename in os.listdir(path_files):          \n",
    "    path_file = os.path.join(path_files, filename)\n",
    "    print('\\n ----  ', path_file, ' ----- ')\n",
    "    files = {'file': open(path_file, 'rb')}\n",
    "    res = requests.post(url, files=files)\n",
    "    print(res.text)"
   ]
  },
  {
   "cell_type": "code",
   "execution_count": 26,
   "metadata": {},
   "outputs": [
    {
     "name": "stdout",
     "output_type": "stream",
     "text": [
      "139 1 115 22089.00100284\n"
     ]
    }
   ],
   "source": [
    "from bestchange_api import BestChange\n",
    "\n",
    "api = BestChange()\n",
    "  # Получить список всех валют\n",
    "abs = api.rates().filter(139, 115)\n",
    "print(abs[0]['give_id'], abs[0][\"give\"], abs[0]['get_id'], abs[0]['get'])"
   ]
  },
  {
   "cell_type": "code",
   "execution_count": 12,
   "metadata": {},
   "outputs": [
    {
     "data": {
      "text/plain": [
       "{'bitcoin': {}}"
      ]
     },
     "execution_count": 12,
     "metadata": {},
     "output_type": "execute_result"
    }
   ],
   "source": [
    "from pycoingecko import CoinGeckoAPI\n",
    "cg = CoinGeckoAPI()\n",
    "\n",
    "cg.get_price(ids='bitcoin', vs_currencies='WAVES')"
   ]
  },
  {
   "cell_type": "code",
   "execution_count": 59,
   "metadata": {},
   "outputs": [
    {
     "name": "stdout",
     "output_type": "stream",
     "text": [
      "1\n"
     ]
    }
   ],
   "source": [
    "from pdf2image import convert_from_path\n",
    "\n",
    "pages = convert_from_path('C:\\Games\\sts2.0\\sts\\ВУ_37.pdf', 500, first_page=1, last_page=1)\n",
    "for page in pages:\n",
    "    print('1')\n",
    "    page.save('out.jpg', 'JPEG')\n",
    "try:\n",
    "    pages1 = convert_from_path('C:\\Games\\sts2.0\\sts\\pispispis.pdf', 500, first_page=2, last_page=2)\n",
    "    for page in pages1:\n",
    "        print('1')\n",
    "        page.save('out111.jpg', 'JPEG')\n",
    "except:\n",
    "    pass "
   ]
  },
  {
   "cell_type": "code",
   "execution_count": null,
   "metadata": {},
   "outputs": [],
   "source": [
    "import cv2 as cv\n",
    "import numpy as np  \n",
    "import easyocr\n",
    "from PIL import Image\n",
    "\n",
    "img = np.array(Image.open(\"C:\\Games\\sts2.0\\BY_FRONT\\ВУ_54.jpeg\"))\n",
    "img = cv.resize(img, (4000,650))\n",
    "cv.imshow(\"img\", img)\n",
    "cv.waitKey(0)\n",
    "cv.destroyAllWindows()"
   ]
  },
  {
   "cell_type": "code",
   "execution_count": null,
   "metadata": {},
   "outputs": [],
   "source": [
    "import cv2\n",
    "import numpy as np\n",
    "#-----Reading the image-----------------------------------------------------\n",
    "img = cv2.imread('C:\\Games\\pass_back/1117.jpg')\n",
    "\n",
    "gray = cv2.cvtColor(img, cv2.COLOR_BGR2GRAY)\n",
    "\n",
    "blur = cv2.medianBlur(gray, 3)\n",
    "\n",
    "edges = cv2.Canny(blur, 75,300)\n",
    "\n",
    "contours, _ = cv2.findContours(edges, cv2.RETR_EXTERNAL, cv2.CHAIN_APPROX_SIMPLE)\n",
    "idx = 0\n",
    "for c in contours:\n",
    "    idx += 1\n",
    "    x,y,w,h = cv2.boundingRect(c)\n",
    "    print(x,y,w,h)\n",
    "    if 300 < w < 1000 and 100 < h < 800 and y > 50 and x < 100:\n",
    "        print(idx, x,y,w,h)\n",
    "        cv2.rectangle(img,(x,y),(x+w,y+h),(0,255,0),2)\n",
    "        cv2.putText(img, f'{idx}', (x, y-10), cv2.FONT_HERSHEY_SIMPLEX, 0.9, (0,0,0), 2)\n",
    "        resize_image = img[y:y+h, x:x+w]\n",
    "        print(resize_image.shape[:2])\n",
    "\n",
    "cv2.imshow('C:\\Games\\passport/1333.jpeg', resize_image)\n",
    "cv2.waitKey(0)\n",
    "cv2.destroyAllWindows()"
   ]
  }
 ],
 "metadata": {
  "interpreter": {
   "hash": "ed69baa76d4aab5bf5eca0f569ec6b2b7ec3999f1cca17f5393ff1b9b2e024b6"
  },
  "kernelspec": {
   "display_name": "Python 3.9.13 ('.env': venv)",
   "language": "python",
   "name": "python3"
  },
  "language_info": {
   "codemirror_mode": {
    "name": "ipython",
    "version": 3
   },
   "file_extension": ".py",
   "mimetype": "text/x-python",
   "name": "python",
   "nbconvert_exporter": "python",
   "pygments_lexer": "ipython3",
   "version": "3.9.13"
  },
  "orig_nbformat": 4
 },
 "nbformat": 4,
 "nbformat_minor": 2
}
