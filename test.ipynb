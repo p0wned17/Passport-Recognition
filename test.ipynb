{
 "cells": [
  {
   "cell_type": "code",
   "execution_count": null,
   "metadata": {},
   "outputs": [],
   "source": [
    "import cv2\n",
    "import numpy as np\n",
    "import cv2\n",
    "import pytesseract\n",
    "import matplotlib.pyplot as plt\n",
    "import numpy as np\n",
    "import pytesseract\n",
    "import argparse\n",
    "import pandas as pd\n",
    "import cv2\n",
    "from PIL import Image\n",
    "from scipy.ndimage import interpolation as inter\n",
    "\n",
    "pytesseract.pytesseract.tesseract_cmd = r'C:/Program Files/Tesseract-OCR/tesseract.exe'"
   ]
  },
  {
   "cell_type": "code",
   "execution_count": null,
   "metadata": {},
   "outputs": [],
   "source": [
    "import re\n",
    "\n",
    "\n",
    "def recognize(data):\n",
    "    text = re.sub(r\"[^А-Я\\s]\",'',data)\n",
    "    text = re.sub(r\"\\s{2,}\", '',text)\n",
    "    return text\n",
    "data = ['', 'ФЛИКШТЕЙН ', 'АЛИНА ', 'АЛЕКСАНДРОВНА ', '© op ', 'мы 27.11.1981 ', '‚жен ', 'ГОР. БАКУ ', '© qn © a © co ', 'РЕСП. АЗЕРБАЙДЖАН ']\n",
    "\n",
    "print(data[4:])\n",
    "\n",
    "# del data[0]\n",
    "# result = list(map(recognize, data))\n",
    "# result = list(filter(None, result))\n",
    "# result = [x for x in result if len(x) > 2]\n",
    "# def lower(text):\n",
    "#     text = text.title()\n",
    "#     return text\n",
    "# result = list(map(lower, result))\n",
    "\n",
    "# print(result)\n",
    "\n",
    "# FIO = (' ').join(result[0:3])\n",
    "\n"
   ]
  },
  {
   "cell_type": "code",
   "execution_count": null,
   "metadata": {},
   "outputs": [],
   "source": [
    "import re\n",
    "def get_birthday(data):\n",
    "    date_birth = re.findall(r\"[A-Z0-9]{10,17}\", str(data))\n",
    "    return date_birth\n",
    "data = [['ae#Tudura4uOHHblf', 'uouep', '(VIN'], ['XWEPC81ADE0009527'], ['Mapra.', 'MOACAE KMA SLS SPORTAGE', 'SL', '', '', '', '', '', '', 'SL,'], ['KIA SLS SPORTAGE', 'SL, SL'], ['Nt', 'DLo', 'OrONTAOC', '2', 'Tu', 'TTC', 'Jerkobon yMBepcan', 'Kareropia', 'TC', '(ABCD:', '\"puuen', 'B'], ['Fox', 'BGUVCKa', 'TTC', '2014'], ['Maccu', \"(pa.na) N'OTCYTCTBYET\"], ['Kvxoe', 'Ka6a , \"DCIE', 'No'], ['XWEPC8IADEO009527'], ['IBe CEPEEPMCTBIM'], ['Momhoctt', 'uarea', 'KBT/A. 4110/150'], ['\\'KoAoru\"CcKu KAAC HETBEPTBI'], ['Hacuopt', 'TG', 'epx7oy', 'N274042'], ['PaapemeHa *', 'Iil X', 'macei,', '2030', 'K'], ['Macca', '66', '\"aevsru', '1655', 'k'], ['77', '60', 'N', '14 0366']]\n",
    "\n",
    "series_number = list(map(get_birthday, data))\n",
    "texting = list(filter(None, series_number))\n",
    "print(texting)\n"
   ]
  },
  {
   "cell_type": "code",
   "execution_count": 1,
   "metadata": {},
   "outputs": [
    {
     "name": "stderr",
     "output_type": "stream",
     "text": [
      "c:\\Games\\ocr_sts\\.env\\lib\\site-packages\\torch\\cuda\\__init__.py:82: UserWarning: CUDA initialization: CUDA driver initialization failed, you might not have a CUDA gpu. (Triggered internally at  C:\\actions-runner\\_work\\pytorch\\pytorch\\builder\\windows\\pytorch\\c10\\cuda\\CUDAFunctions.cpp:112.)\n",
      "  return torch._C._cuda_getDeviceCount() > 0\n"
     ]
    },
    {
     "data": {
      "text/plain": [
       "False"
      ]
     },
     "execution_count": 1,
     "metadata": {},
     "output_type": "execute_result"
    }
   ],
   "source": [
    "import torch\n",
    "\n",
    "torch.cuda.is_available()"
   ]
  },
  {
   "cell_type": "code",
   "execution_count": null,
   "metadata": {},
   "outputs": [],
   "source": [
    "import requests\n",
    "import os\n",
    "path_files = 'C:\\Games\\passport 2.0'\n",
    "url = \"http://localhost:8005/predict/?template=3&mode=front\"\n",
    "\n",
    "for filename in os.listdir(path_files):          \n",
    "    path_file = os.path.join(path_files, filename)\n",
    "    print('\\n ----  ', path_file, ' ----- ')\n",
    "    files = {'file': open(path_file, 'rb')}\n",
    "    res = requests.post(url, files=files)\n",
    "    print(res.text)"
   ]
  },
  {
   "cell_type": "code",
   "execution_count": null,
   "metadata": {},
   "outputs": [],
   "source": [
    "import requests\n",
    "import os\n",
    "path_files = 'C:\\Games\\PTS'\n",
    "url = \"http://localhost:8005/predict/?template=4&mode=front\"\n",
    "\n",
    "for filename in os.listdir(path_files):\n",
    "    path_file = os.path.join(path_files, filename)\n",
    "    print('\\n ----  ', path_file, ' ----- ')\n",
    "    files = {'file': open(path_file, 'rb')}\n",
    "    res = requests.post(url, files=files)\n",
    "    print(res.text)"
   ]
  },
  {
   "cell_type": "code",
   "execution_count": 6,
   "metadata": {},
   "outputs": [
    {
     "name": "stdout",
     "output_type": "stream",
     "text": [
      "['WAUZZZ8V3J1075219']\n"
     ]
    }
   ],
   "source": [
    "import json\n",
    "import requests\n",
    "from fake_useragent import UserAgent\n",
    "dict_keys = {\"01\":\"Грузовой автомобиль бортовой\",\n",
    "        \"02\":\"Грузовой автомобиль шасси\",\n",
    "        \"03\":\"Грузовой автомобиль фургоны\",\n",
    "        \"04\":\"Грузовой автомобиль тягачи седельной\",\n",
    "        \"05\":\"Грузовой автомобиль самосвалы\",\n",
    "        \"06\":\"Грузовой автомобиль рефрижераторы\",\n",
    "        \"07\":\"Грузовой автомобиль цистерны\",\n",
    "        \"08\":\"Грузовой автомобиль с гидроманипулятором\",\n",
    "        \"09\":\"Грузовой автомобиль прочие\",\n",
    "        \"21\":\"Легковой автомобиль универсал\",\n",
    "        \"22\":\"Легковой автомобиль комби (хэтчбек)\",\n",
    "        \"23\":\"Легковой автомобиль седан\",\n",
    "        \"24\":\"Легковой автомобиль лимузин\",\n",
    "        \"25\":\"Легковой автомобиль купе\",\n",
    "        \"26\":\"Легковой автомобиль кабриолет\",\n",
    "        \"27\":\"Легковой автомобиль фаэтон\",\n",
    "        \"28\":\"Легковой автомобиль пикап\",\n",
    "        \"29\":\"Легковой автомобиль прочие\",\n",
    "        \"41\":\"Автобус длиной не более 5 м\",\n",
    "        \"42\":\"Автобус длиной более 5 м, но не более 8 м\",\n",
    "        \"43\":\"Автобус длиной более 8 м, но не более 12 м\",\n",
    "        \"44\":\"Автобус сочлененные длиной более 12 м\",\n",
    "        \"49\":\"Автобус прочие\",\n",
    "        \"51\":\"Специализированные автомобили автоцистерны\",\n",
    "        \"52\":\"Специализированные автомобили санитарные\",\n",
    "        \"53\":\"Специализированные автомобили автокраны\",\n",
    "        \"54\":\"Специализированные автомобили заправщики\",\n",
    "        \"55\":\"Специализированные автомобили мастерские\",\n",
    "        \"56\":\"Специализированные автомобили автопогрузчики\",\n",
    "        \"57\":\"Специализированные автомобили эвакуаторы\",\n",
    "        \"58\":\"Специализированные пассажирские транспортные средства\",\n",
    "        \"59\":\"Специализированные автомобили прочие\",\n",
    "        \"71\":\"Мотоциклы\",\n",
    "        \"72\":\"Мотороллеры и мотоколяски\",\n",
    "        \"73\":\"Мотовелосипеды и мопеды\",\n",
    "        \"74\":\"Мотонарты\",\n",
    "        \"80\":\"Прицепы самосвалы\",\n",
    "        \"81\":\"Прицепы к легковым автомобилям\",\n",
    "        \"82\":\"Прицепы общего назначения к грузовым автомобилям\",\n",
    "        \"83\":\"Прицепы цистерны\",\n",
    "        \"84\":\"Прицепы тракторные\",\n",
    "        \"85\":\"Прицепы вагоны-дома передвижные\",\n",
    "        \"86\":\"Прицепы со специализированными кузовами\",\n",
    "        \"87\":\"Прицепы трейлеры\",\n",
    "        \"88\":\"Прицепы автобуса\",\n",
    "        \"89\":\"Прицепы прочие\",\n",
    "        \"91\":\"Полуприцепы с бортовой платформой\",\n",
    "        \"92\":\"Полуприцепы самосвалы\",\n",
    "        \"93\":\"Полуприцепы фургоны\",\n",
    "        \"95\":\"Полуприцепы цистерны\",\n",
    "        \"99\":\"Полуприцепы прочие\",\n",
    "        \"31\":\"Трактора\",\n",
    "        \"32\":\"Самоходные машины и механизмы\",\n",
    "        \"33\":\"Трамваи\",\n",
    "        \"34\":\"Троллейбусы\",\n",
    "        \"35\":\"Велосипеды\",\n",
    "        \"36\":\"Гужевой транспорт\",\n",
    "        \"38\":\"Подвижной состав железных дорог\",\n",
    "        \"39\":\"Иной\"}\n",
    "data = [['WAUZZZ8V3J1075219'], ['WAUZZZ8V3J1075219'], ['WAUZZZ8V3J1075219']]\n",
    "ua = UserAgent()\n",
    "for vin in data:\n",
    "    print(vin)\n",
    "    params = {'vin': vin[0],\n",
    "        'checkType':'history'}\n",
    "    resp = requests.post(\"https://xn--b1afk4ade.xn--90adear.xn--p1ai/proxy/check/auto/history\", data=params)\n",
    "    while resp.status_code == 200:\n",
    "        data = json.loads(resp.text)\n",
    "\n",
    "        items = data['RequestResult']['vehicle']\n",
    "\n",
    "\n",
    "        model = items['model']\n",
    "        vin = items['vin']\n",
    "        year = items['year']\n",
    "        category = items['category']\n",
    "        type = items['type']\n",
    "        type_ts = dict_keys.get(type)\n",
    "        engine_Hp = items['powerHp']\n",
    "        engine_powerKwt = items['powerKwt']\n",
    "        engine = f'({engine_powerKwt}){engine_Hp}'\n",
    "        data = {\n",
    "            'number': 'number',\n",
    "            'vin': vin,\n",
    "            'model':model,\n",
    "            'type':type_ts,\n",
    "            'categoty':category,\n",
    "            'year':year,\n",
    "            'engine':engine,\n",
    "        }\n",
    "        print(data)\n",
    "    else:\n",
    "        print('sss')"
   ]
  },
  {
   "cell_type": "code",
   "execution_count": null,
   "metadata": {},
   "outputs": [],
   "source": [
    "data = [['WAUZZZ8V3J1075219'], ['WAUZZZ8V3J1075219'], ['WAUZZZ8V3J1075219']]\n",
    "\n",
    "for vin in data:\n",
    "    print(vin[0])\n"
   ]
  },
  {
   "cell_type": "code",
   "execution_count": null,
   "metadata": {},
   "outputs": [],
   "source": [
    "import cv2 as cv\n",
    "import numpy as np  \n",
    "import easyocr\n",
    "from PIL import Image\n",
    "\n",
    "img = np.array(Image.open(\"C:\\Games\\sts2.0\\BY_FRONT\\ВУ_54.jpeg\"))\n",
    "img = cv.resize(img, (4000,650))\n",
    "cv.imshow(\"img\", img)\n",
    "cv.waitKey(0)\n",
    "cv.destroyAllWindows()"
   ]
  },
  {
   "cell_type": "code",
   "execution_count": null,
   "metadata": {},
   "outputs": [],
   "source": [
    "import cv2\n",
    "import numpy as np\n",
    "#-----Reading the image-----------------------------------------------------\n",
    "img = cv2.imread('C:\\Games\\pass_back/1117.jpg')\n",
    "\n",
    "gray = cv2.cvtColor(img, cv2.COLOR_BGR2GRAY)\n",
    "\n",
    "blur = cv2.medianBlur(gray, 3)\n",
    "\n",
    "edges = cv2.Canny(blur, 75,300)\n",
    "\n",
    "contours, _ = cv2.findContours(edges, cv2.RETR_EXTERNAL, cv2.CHAIN_APPROX_SIMPLE)\n",
    "idx = 0\n",
    "for c in contours:\n",
    "    idx += 1\n",
    "    x,y,w,h = cv2.boundingRect(c)\n",
    "    print(x,y,w,h)\n",
    "    if 300 < w < 1000 and 100 < h < 800 and y > 50 and x < 100:\n",
    "        print(idx, x,y,w,h)\n",
    "        cv2.rectangle(img,(x,y),(x+w,y+h),(0,255,0),2)\n",
    "        cv2.putText(img, f'{idx}', (x, y-10), cv2.FONT_HERSHEY_SIMPLEX, 0.9, (0,0,0), 2)\n",
    "        resize_image = img[y:y+h, x:x+w]\n",
    "        print(resize_image.shape[:2])\n",
    "\n",
    "cv2.imshow('C:\\Games\\passport/1333.jpeg', resize_image)\n",
    "cv2.waitKey(0)\n",
    "cv2.destroyAllWindows()"
   ]
  }
 ],
 "metadata": {
  "interpreter": {
   "hash": "b13b9b895754cbd76fac00cc42a0dee8bd4c0c74683c981ff42019210e048c12"
  },
  "kernelspec": {
   "display_name": "Python 3.9.10 ('.env': venv)",
   "language": "python",
   "name": "python3"
  },
  "language_info": {
   "codemirror_mode": {
    "name": "ipython",
    "version": 3
   },
   "file_extension": ".py",
   "mimetype": "text/x-python",
   "name": "python",
   "nbconvert_exporter": "python",
   "pygments_lexer": "ipython3",
   "version": "3.9.12"
  },
  "orig_nbformat": 4
 },
 "nbformat": 4,
 "nbformat_minor": 2
}
